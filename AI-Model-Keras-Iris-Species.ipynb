{
  "nbformat": 4,
  "nbformat_minor": 0,
  "metadata": {
    "colab": {
      "name": "Copy of AI_in_15.ipynb",
      "provenance": []
    },
    "kernelspec": {
      "name": "python3",
      "display_name": "Python 3"
    }
  },
  "cells": [
    {
      "cell_type": "markdown",
      "metadata": {
        "id": "Z7be-4wZ8zuO"
      },
      "source": [
        "Import the dataset.\n",
        "\n",
        "[Click here for the dataset](https://www.kaggle.com/uciml/iris)"
      ]
    },
    {
      "cell_type": "code",
      "metadata": {
        "id": "IEomVUgHqQ5F"
      },
      "source": [
        "import pandas as pd\n",
        "\n",
        "dataset = pd.read_csv('/content/Iris.csv')"
      ],
      "execution_count": 411,
      "outputs": []
    },
    {
      "cell_type": "code",
      "metadata": {
        "id": "0Z529zPcqyRW"
      },
      "source": [
        "x = dataset.drop(columns=[\"Species\"])"
      ],
      "execution_count": 412,
      "outputs": []
    },
    {
      "cell_type": "code",
      "metadata": {
        "id": "6SR1kGrHrH0m"
      },
      "source": [
        "y = dataset[\"Species\"]"
      ],
      "execution_count": 413,
      "outputs": []
    },
    {
      "cell_type": "code",
      "metadata": {
        "id": "Cj_ZT0t9i4z0"
      },
      "source": [
        "y = pd.get_dummies(y, columns=['Species'])\n"
      ],
      "execution_count": 414,
      "outputs": []
    },
    {
      "cell_type": "code",
      "metadata": {
        "colab": {
          "base_uri": "https://localhost:8080/",
          "height": 424
        },
        "id": "8afqMsd6jDTw",
        "outputId": "45ee7b47-1ec0-4263-84bd-cec017eb9612"
      },
      "source": [
        "y"
      ],
      "execution_count": 415,
      "outputs": [
        {
          "output_type": "execute_result",
          "data": {
            "text/html": [
              "\n",
              "  <div id=\"df-57c10ffe-95d1-4244-81da-eaa5e5728e8f\">\n",
              "    <div class=\"colab-df-container\">\n",
              "      <div>\n",
              "<style scoped>\n",
              "    .dataframe tbody tr th:only-of-type {\n",
              "        vertical-align: middle;\n",
              "    }\n",
              "\n",
              "    .dataframe tbody tr th {\n",
              "        vertical-align: top;\n",
              "    }\n",
              "\n",
              "    .dataframe thead th {\n",
              "        text-align: right;\n",
              "    }\n",
              "</style>\n",
              "<table border=\"1\" class=\"dataframe\">\n",
              "  <thead>\n",
              "    <tr style=\"text-align: right;\">\n",
              "      <th></th>\n",
              "      <th>Iris-setosa</th>\n",
              "      <th>Iris-versicolor</th>\n",
              "      <th>Iris-virginica</th>\n",
              "    </tr>\n",
              "  </thead>\n",
              "  <tbody>\n",
              "    <tr>\n",
              "      <th>0</th>\n",
              "      <td>1</td>\n",
              "      <td>0</td>\n",
              "      <td>0</td>\n",
              "    </tr>\n",
              "    <tr>\n",
              "      <th>1</th>\n",
              "      <td>1</td>\n",
              "      <td>0</td>\n",
              "      <td>0</td>\n",
              "    </tr>\n",
              "    <tr>\n",
              "      <th>2</th>\n",
              "      <td>1</td>\n",
              "      <td>0</td>\n",
              "      <td>0</td>\n",
              "    </tr>\n",
              "    <tr>\n",
              "      <th>3</th>\n",
              "      <td>1</td>\n",
              "      <td>0</td>\n",
              "      <td>0</td>\n",
              "    </tr>\n",
              "    <tr>\n",
              "      <th>4</th>\n",
              "      <td>1</td>\n",
              "      <td>0</td>\n",
              "      <td>0</td>\n",
              "    </tr>\n",
              "    <tr>\n",
              "      <th>...</th>\n",
              "      <td>...</td>\n",
              "      <td>...</td>\n",
              "      <td>...</td>\n",
              "    </tr>\n",
              "    <tr>\n",
              "      <th>145</th>\n",
              "      <td>0</td>\n",
              "      <td>0</td>\n",
              "      <td>1</td>\n",
              "    </tr>\n",
              "    <tr>\n",
              "      <th>146</th>\n",
              "      <td>0</td>\n",
              "      <td>0</td>\n",
              "      <td>1</td>\n",
              "    </tr>\n",
              "    <tr>\n",
              "      <th>147</th>\n",
              "      <td>0</td>\n",
              "      <td>0</td>\n",
              "      <td>1</td>\n",
              "    </tr>\n",
              "    <tr>\n",
              "      <th>148</th>\n",
              "      <td>0</td>\n",
              "      <td>0</td>\n",
              "      <td>1</td>\n",
              "    </tr>\n",
              "    <tr>\n",
              "      <th>149</th>\n",
              "      <td>0</td>\n",
              "      <td>0</td>\n",
              "      <td>1</td>\n",
              "    </tr>\n",
              "  </tbody>\n",
              "</table>\n",
              "<p>150 rows × 3 columns</p>\n",
              "</div>\n",
              "      <button class=\"colab-df-convert\" onclick=\"convertToInteractive('df-57c10ffe-95d1-4244-81da-eaa5e5728e8f')\"\n",
              "              title=\"Convert this dataframe to an interactive table.\"\n",
              "              style=\"display:none;\">\n",
              "        \n",
              "  <svg xmlns=\"http://www.w3.org/2000/svg\" height=\"24px\"viewBox=\"0 0 24 24\"\n",
              "       width=\"24px\">\n",
              "    <path d=\"M0 0h24v24H0V0z\" fill=\"none\"/>\n",
              "    <path d=\"M18.56 5.44l.94 2.06.94-2.06 2.06-.94-2.06-.94-.94-2.06-.94 2.06-2.06.94zm-11 1L8.5 8.5l.94-2.06 2.06-.94-2.06-.94L8.5 2.5l-.94 2.06-2.06.94zm10 10l.94 2.06.94-2.06 2.06-.94-2.06-.94-.94-2.06-.94 2.06-2.06.94z\"/><path d=\"M17.41 7.96l-1.37-1.37c-.4-.4-.92-.59-1.43-.59-.52 0-1.04.2-1.43.59L10.3 9.45l-7.72 7.72c-.78.78-.78 2.05 0 2.83L4 21.41c.39.39.9.59 1.41.59.51 0 1.02-.2 1.41-.59l7.78-7.78 2.81-2.81c.8-.78.8-2.07 0-2.86zM5.41 20L4 18.59l7.72-7.72 1.47 1.35L5.41 20z\"/>\n",
              "  </svg>\n",
              "      </button>\n",
              "      \n",
              "  <style>\n",
              "    .colab-df-container {\n",
              "      display:flex;\n",
              "      flex-wrap:wrap;\n",
              "      gap: 12px;\n",
              "    }\n",
              "\n",
              "    .colab-df-convert {\n",
              "      background-color: #E8F0FE;\n",
              "      border: none;\n",
              "      border-radius: 50%;\n",
              "      cursor: pointer;\n",
              "      display: none;\n",
              "      fill: #1967D2;\n",
              "      height: 32px;\n",
              "      padding: 0 0 0 0;\n",
              "      width: 32px;\n",
              "    }\n",
              "\n",
              "    .colab-df-convert:hover {\n",
              "      background-color: #E2EBFA;\n",
              "      box-shadow: 0px 1px 2px rgba(60, 64, 67, 0.3), 0px 1px 3px 1px rgba(60, 64, 67, 0.15);\n",
              "      fill: #174EA6;\n",
              "    }\n",
              "\n",
              "    [theme=dark] .colab-df-convert {\n",
              "      background-color: #3B4455;\n",
              "      fill: #D2E3FC;\n",
              "    }\n",
              "\n",
              "    [theme=dark] .colab-df-convert:hover {\n",
              "      background-color: #434B5C;\n",
              "      box-shadow: 0px 1px 3px 1px rgba(0, 0, 0, 0.15);\n",
              "      filter: drop-shadow(0px 1px 2px rgba(0, 0, 0, 0.3));\n",
              "      fill: #FFFFFF;\n",
              "    }\n",
              "  </style>\n",
              "\n",
              "      <script>\n",
              "        const buttonEl =\n",
              "          document.querySelector('#df-57c10ffe-95d1-4244-81da-eaa5e5728e8f button.colab-df-convert');\n",
              "        buttonEl.style.display =\n",
              "          google.colab.kernel.accessAllowed ? 'block' : 'none';\n",
              "\n",
              "        async function convertToInteractive(key) {\n",
              "          const element = document.querySelector('#df-57c10ffe-95d1-4244-81da-eaa5e5728e8f');\n",
              "          const dataTable =\n",
              "            await google.colab.kernel.invokeFunction('convertToInteractive',\n",
              "                                                     [key], {});\n",
              "          if (!dataTable) return;\n",
              "\n",
              "          const docLinkHtml = 'Like what you see? Visit the ' +\n",
              "            '<a target=\"_blank\" href=https://colab.research.google.com/notebooks/data_table.ipynb>data table notebook</a>'\n",
              "            + ' to learn more about interactive tables.';\n",
              "          element.innerHTML = '';\n",
              "          dataTable['output_type'] = 'display_data';\n",
              "          await google.colab.output.renderOutput(dataTable, element);\n",
              "          const docLink = document.createElement('div');\n",
              "          docLink.innerHTML = docLinkHtml;\n",
              "          element.appendChild(docLink);\n",
              "        }\n",
              "      </script>\n",
              "    </div>\n",
              "  </div>\n",
              "  "
            ],
            "text/plain": [
              "     Iris-setosa  Iris-versicolor  Iris-virginica\n",
              "0              1                0               0\n",
              "1              1                0               0\n",
              "2              1                0               0\n",
              "3              1                0               0\n",
              "4              1                0               0\n",
              "..           ...              ...             ...\n",
              "145            0                0               1\n",
              "146            0                0               1\n",
              "147            0                0               1\n",
              "148            0                0               1\n",
              "149            0                0               1\n",
              "\n",
              "[150 rows x 3 columns]"
            ]
          },
          "metadata": {},
          "execution_count": 415
        }
      ]
    },
    {
      "cell_type": "markdown",
      "metadata": {
        "id": "lecFCh2a9eUI"
      },
      "source": [
        "Split the data into a training set and a testing set."
      ]
    },
    {
      "cell_type": "code",
      "metadata": {
        "id": "TIReATdirsJu"
      },
      "source": [
        "from sklearn.model_selection import train_test_split\n",
        "\n",
        "x_train, x_test, y_train, y_test = train_test_split(x, y, test_size=0.2)"
      ],
      "execution_count": 416,
      "outputs": []
    },
    {
      "cell_type": "code",
      "metadata": {
        "colab": {
          "base_uri": "https://localhost:8080/",
          "height": 424
        },
        "id": "toz20IUhCR1i",
        "outputId": "0eb24b4d-ec24-48fe-8661-d63a8c0830f5"
      },
      "source": [
        "y_train"
      ],
      "execution_count": 417,
      "outputs": [
        {
          "output_type": "execute_result",
          "data": {
            "text/html": [
              "\n",
              "  <div id=\"df-9c8a9a96-53bc-4c47-8d9f-0fc2ca41488d\">\n",
              "    <div class=\"colab-df-container\">\n",
              "      <div>\n",
              "<style scoped>\n",
              "    .dataframe tbody tr th:only-of-type {\n",
              "        vertical-align: middle;\n",
              "    }\n",
              "\n",
              "    .dataframe tbody tr th {\n",
              "        vertical-align: top;\n",
              "    }\n",
              "\n",
              "    .dataframe thead th {\n",
              "        text-align: right;\n",
              "    }\n",
              "</style>\n",
              "<table border=\"1\" class=\"dataframe\">\n",
              "  <thead>\n",
              "    <tr style=\"text-align: right;\">\n",
              "      <th></th>\n",
              "      <th>Iris-setosa</th>\n",
              "      <th>Iris-versicolor</th>\n",
              "      <th>Iris-virginica</th>\n",
              "    </tr>\n",
              "  </thead>\n",
              "  <tbody>\n",
              "    <tr>\n",
              "      <th>98</th>\n",
              "      <td>0</td>\n",
              "      <td>1</td>\n",
              "      <td>0</td>\n",
              "    </tr>\n",
              "    <tr>\n",
              "      <th>61</th>\n",
              "      <td>0</td>\n",
              "      <td>1</td>\n",
              "      <td>0</td>\n",
              "    </tr>\n",
              "    <tr>\n",
              "      <th>59</th>\n",
              "      <td>0</td>\n",
              "      <td>1</td>\n",
              "      <td>0</td>\n",
              "    </tr>\n",
              "    <tr>\n",
              "      <th>110</th>\n",
              "      <td>0</td>\n",
              "      <td>0</td>\n",
              "      <td>1</td>\n",
              "    </tr>\n",
              "    <tr>\n",
              "      <th>86</th>\n",
              "      <td>0</td>\n",
              "      <td>1</td>\n",
              "      <td>0</td>\n",
              "    </tr>\n",
              "    <tr>\n",
              "      <th>...</th>\n",
              "      <td>...</td>\n",
              "      <td>...</td>\n",
              "      <td>...</td>\n",
              "    </tr>\n",
              "    <tr>\n",
              "      <th>55</th>\n",
              "      <td>0</td>\n",
              "      <td>1</td>\n",
              "      <td>0</td>\n",
              "    </tr>\n",
              "    <tr>\n",
              "      <th>124</th>\n",
              "      <td>0</td>\n",
              "      <td>0</td>\n",
              "      <td>1</td>\n",
              "    </tr>\n",
              "    <tr>\n",
              "      <th>16</th>\n",
              "      <td>1</td>\n",
              "      <td>0</td>\n",
              "      <td>0</td>\n",
              "    </tr>\n",
              "    <tr>\n",
              "      <th>131</th>\n",
              "      <td>0</td>\n",
              "      <td>0</td>\n",
              "      <td>1</td>\n",
              "    </tr>\n",
              "    <tr>\n",
              "      <th>123</th>\n",
              "      <td>0</td>\n",
              "      <td>0</td>\n",
              "      <td>1</td>\n",
              "    </tr>\n",
              "  </tbody>\n",
              "</table>\n",
              "<p>120 rows × 3 columns</p>\n",
              "</div>\n",
              "      <button class=\"colab-df-convert\" onclick=\"convertToInteractive('df-9c8a9a96-53bc-4c47-8d9f-0fc2ca41488d')\"\n",
              "              title=\"Convert this dataframe to an interactive table.\"\n",
              "              style=\"display:none;\">\n",
              "        \n",
              "  <svg xmlns=\"http://www.w3.org/2000/svg\" height=\"24px\"viewBox=\"0 0 24 24\"\n",
              "       width=\"24px\">\n",
              "    <path d=\"M0 0h24v24H0V0z\" fill=\"none\"/>\n",
              "    <path d=\"M18.56 5.44l.94 2.06.94-2.06 2.06-.94-2.06-.94-.94-2.06-.94 2.06-2.06.94zm-11 1L8.5 8.5l.94-2.06 2.06-.94-2.06-.94L8.5 2.5l-.94 2.06-2.06.94zm10 10l.94 2.06.94-2.06 2.06-.94-2.06-.94-.94-2.06-.94 2.06-2.06.94z\"/><path d=\"M17.41 7.96l-1.37-1.37c-.4-.4-.92-.59-1.43-.59-.52 0-1.04.2-1.43.59L10.3 9.45l-7.72 7.72c-.78.78-.78 2.05 0 2.83L4 21.41c.39.39.9.59 1.41.59.51 0 1.02-.2 1.41-.59l7.78-7.78 2.81-2.81c.8-.78.8-2.07 0-2.86zM5.41 20L4 18.59l7.72-7.72 1.47 1.35L5.41 20z\"/>\n",
              "  </svg>\n",
              "      </button>\n",
              "      \n",
              "  <style>\n",
              "    .colab-df-container {\n",
              "      display:flex;\n",
              "      flex-wrap:wrap;\n",
              "      gap: 12px;\n",
              "    }\n",
              "\n",
              "    .colab-df-convert {\n",
              "      background-color: #E8F0FE;\n",
              "      border: none;\n",
              "      border-radius: 50%;\n",
              "      cursor: pointer;\n",
              "      display: none;\n",
              "      fill: #1967D2;\n",
              "      height: 32px;\n",
              "      padding: 0 0 0 0;\n",
              "      width: 32px;\n",
              "    }\n",
              "\n",
              "    .colab-df-convert:hover {\n",
              "      background-color: #E2EBFA;\n",
              "      box-shadow: 0px 1px 2px rgba(60, 64, 67, 0.3), 0px 1px 3px 1px rgba(60, 64, 67, 0.15);\n",
              "      fill: #174EA6;\n",
              "    }\n",
              "\n",
              "    [theme=dark] .colab-df-convert {\n",
              "      background-color: #3B4455;\n",
              "      fill: #D2E3FC;\n",
              "    }\n",
              "\n",
              "    [theme=dark] .colab-df-convert:hover {\n",
              "      background-color: #434B5C;\n",
              "      box-shadow: 0px 1px 3px 1px rgba(0, 0, 0, 0.15);\n",
              "      filter: drop-shadow(0px 1px 2px rgba(0, 0, 0, 0.3));\n",
              "      fill: #FFFFFF;\n",
              "    }\n",
              "  </style>\n",
              "\n",
              "      <script>\n",
              "        const buttonEl =\n",
              "          document.querySelector('#df-9c8a9a96-53bc-4c47-8d9f-0fc2ca41488d button.colab-df-convert');\n",
              "        buttonEl.style.display =\n",
              "          google.colab.kernel.accessAllowed ? 'block' : 'none';\n",
              "\n",
              "        async function convertToInteractive(key) {\n",
              "          const element = document.querySelector('#df-9c8a9a96-53bc-4c47-8d9f-0fc2ca41488d');\n",
              "          const dataTable =\n",
              "            await google.colab.kernel.invokeFunction('convertToInteractive',\n",
              "                                                     [key], {});\n",
              "          if (!dataTable) return;\n",
              "\n",
              "          const docLinkHtml = 'Like what you see? Visit the ' +\n",
              "            '<a target=\"_blank\" href=https://colab.research.google.com/notebooks/data_table.ipynb>data table notebook</a>'\n",
              "            + ' to learn more about interactive tables.';\n",
              "          element.innerHTML = '';\n",
              "          dataTable['output_type'] = 'display_data';\n",
              "          await google.colab.output.renderOutput(dataTable, element);\n",
              "          const docLink = document.createElement('div');\n",
              "          docLink.innerHTML = docLinkHtml;\n",
              "          element.appendChild(docLink);\n",
              "        }\n",
              "      </script>\n",
              "    </div>\n",
              "  </div>\n",
              "  "
            ],
            "text/plain": [
              "     Iris-setosa  Iris-versicolor  Iris-virginica\n",
              "98             0                1               0\n",
              "61             0                1               0\n",
              "59             0                1               0\n",
              "110            0                0               1\n",
              "86             0                1               0\n",
              "..           ...              ...             ...\n",
              "55             0                1               0\n",
              "124            0                0               1\n",
              "16             1                0               0\n",
              "131            0                0               1\n",
              "123            0                0               1\n",
              "\n",
              "[120 rows x 3 columns]"
            ]
          },
          "metadata": {},
          "execution_count": 417
        }
      ]
    },
    {
      "cell_type": "markdown",
      "metadata": {
        "id": "YzEY1Qey9vMD"
      },
      "source": [
        "Build and train the model."
      ]
    },
    {
      "cell_type": "code",
      "metadata": {
        "id": "1sZV8xFcscJb"
      },
      "source": [
        "import tensorflow as tf"
      ],
      "execution_count": 418,
      "outputs": []
    },
    {
      "cell_type": "code",
      "metadata": {
        "colab": {
          "base_uri": "https://localhost:8080/"
        },
        "id": "lPVEUe4J-gdj",
        "outputId": "09963574-8f28-47bb-b9f4-1613af634c06"
      },
      "source": [
        "training_set_shape = x_train.shape\n",
        "print(training_set_shape)"
      ],
      "execution_count": 419,
      "outputs": [
        {
          "output_type": "stream",
          "name": "stdout",
          "text": [
            "(120, 5)\n"
          ]
        }
      ]
    },
    {
      "cell_type": "code",
      "metadata": {
        "id": "XoBAP4bR7DDn"
      },
      "source": [
        "import tensorflow as tf\n",
        "\n",
        "from tensorflow import keras\n",
        "from tensorflow.keras import layers\n",
        "\n",
        "def build_model():\n",
        "  model = keras.Sequential([\n",
        "    layers.Dense(64, activation='relu'),\n",
        "    layers.Dense(64, activation='relu'),\n",
        "    layers.Dense(3, activation='softmax')\n",
        "  ])\n",
        "\n",
        "  optimizer = tf.keras.optimizers.Adam(0.001)\n",
        "\n",
        "  model.compile(loss='categorical_crossentropy', optimizer=optimizer)\n",
        "\n",
        "  return model"
      ],
      "execution_count": 420,
      "outputs": []
    },
    {
      "cell_type": "code",
      "metadata": {
        "colab": {
          "base_uri": "https://localhost:8080/"
        },
        "id": "ACSWv1IVA19N",
        "outputId": "aed509cb-0300-4333-d827-aa00f2733175"
      },
      "source": [
        "y_train, x_train"
      ],
      "execution_count": 421,
      "outputs": [
        {
          "output_type": "execute_result",
          "data": {
            "text/plain": [
              "(     Iris-setosa  Iris-versicolor  Iris-virginica\n",
              " 98             0                1               0\n",
              " 61             0                1               0\n",
              " 59             0                1               0\n",
              " 110            0                0               1\n",
              " 86             0                1               0\n",
              " ..           ...              ...             ...\n",
              " 55             0                1               0\n",
              " 124            0                0               1\n",
              " 16             1                0               0\n",
              " 131            0                0               1\n",
              " 123            0                0               1\n",
              " \n",
              " [120 rows x 3 columns],\n",
              "       Id  SepalLengthCm  SepalWidthCm  PetalLengthCm  PetalWidthCm\n",
              " 98    99            5.1           2.5            3.0           1.1\n",
              " 61    62            5.9           3.0            4.2           1.5\n",
              " 59    60            5.2           2.7            3.9           1.4\n",
              " 110  111            6.5           3.2            5.1           2.0\n",
              " 86    87            6.7           3.1            4.7           1.5\n",
              " ..   ...            ...           ...            ...           ...\n",
              " 55    56            5.7           2.8            4.5           1.3\n",
              " 124  125            6.7           3.3            5.7           2.1\n",
              " 16    17            5.4           3.9            1.3           0.4\n",
              " 131  132            7.9           3.8            6.4           2.0\n",
              " 123  124            6.3           2.7            4.9           1.8\n",
              " \n",
              " [120 rows x 5 columns])"
            ]
          },
          "metadata": {},
          "execution_count": 421
        }
      ]
    },
    {
      "cell_type": "code",
      "metadata": {
        "colab": {
          "base_uri": "https://localhost:8080/"
        },
        "id": "NDSwKNN0tpZQ",
        "outputId": "64b921c0-9b1c-4961-f7c0-0ede7e8a4610"
      },
      "source": [
        "tfmodel = build_model()\n",
        "history = tfmodel.fit(x_train, y_train, epochs=70)"
      ],
      "execution_count": 422,
      "outputs": [
        {
          "output_type": "stream",
          "name": "stdout",
          "text": [
            "Epoch 1/70\n",
            "4/4 [==============================] - 0s 4ms/step - loss: 8.3768\n",
            "Epoch 2/70\n",
            "4/4 [==============================] - 0s 5ms/step - loss: 2.5923\n",
            "Epoch 3/70\n",
            "4/4 [==============================] - 0s 7ms/step - loss: 3.1797\n",
            "Epoch 4/70\n",
            "4/4 [==============================] - 0s 3ms/step - loss: 2.3941\n",
            "Epoch 5/70\n",
            "4/4 [==============================] - 0s 3ms/step - loss: 1.5587\n",
            "Epoch 6/70\n",
            "4/4 [==============================] - 0s 3ms/step - loss: 1.4711\n",
            "Epoch 7/70\n",
            "4/4 [==============================] - 0s 4ms/step - loss: 1.2989\n",
            "Epoch 8/70\n",
            "4/4 [==============================] - 0s 3ms/step - loss: 1.1745\n",
            "Epoch 9/70\n",
            "4/4 [==============================] - 0s 3ms/step - loss: 1.0390\n",
            "Epoch 10/70\n",
            "4/4 [==============================] - 0s 4ms/step - loss: 0.8946\n",
            "Epoch 11/70\n",
            "4/4 [==============================] - 0s 4ms/step - loss: 0.8743\n",
            "Epoch 12/70\n",
            "4/4 [==============================] - 0s 4ms/step - loss: 0.8023\n",
            "Epoch 13/70\n",
            "4/4 [==============================] - 0s 4ms/step - loss: 0.7472\n",
            "Epoch 14/70\n",
            "4/4 [==============================] - 0s 4ms/step - loss: 0.7608\n",
            "Epoch 15/70\n",
            "4/4 [==============================] - 0s 3ms/step - loss: 0.6869\n",
            "Epoch 16/70\n",
            "4/4 [==============================] - 0s 4ms/step - loss: 0.6371\n",
            "Epoch 17/70\n",
            "4/4 [==============================] - 0s 3ms/step - loss: 0.5827\n",
            "Epoch 18/70\n",
            "4/4 [==============================] - 0s 3ms/step - loss: 0.5448\n",
            "Epoch 19/70\n",
            "4/4 [==============================] - 0s 3ms/step - loss: 0.5150\n",
            "Epoch 20/70\n",
            "4/4 [==============================] - 0s 3ms/step - loss: 0.4948\n",
            "Epoch 21/70\n",
            "4/4 [==============================] - 0s 6ms/step - loss: 0.4862\n",
            "Epoch 22/70\n",
            "4/4 [==============================] - 0s 5ms/step - loss: 0.4790\n",
            "Epoch 23/70\n",
            "4/4 [==============================] - 0s 5ms/step - loss: 0.4486\n",
            "Epoch 24/70\n",
            "4/4 [==============================] - 0s 4ms/step - loss: 0.4457\n",
            "Epoch 25/70\n",
            "4/4 [==============================] - 0s 4ms/step - loss: 0.4534\n",
            "Epoch 26/70\n",
            "4/4 [==============================] - 0s 3ms/step - loss: 0.4194\n",
            "Epoch 27/70\n",
            "4/4 [==============================] - 0s 3ms/step - loss: 0.3857\n",
            "Epoch 28/70\n",
            "4/4 [==============================] - 0s 3ms/step - loss: 0.3975\n",
            "Epoch 29/70\n",
            "4/4 [==============================] - 0s 3ms/step - loss: 0.3786\n",
            "Epoch 30/70\n",
            "4/4 [==============================] - 0s 4ms/step - loss: 0.3756\n",
            "Epoch 31/70\n",
            "4/4 [==============================] - 0s 4ms/step - loss: 0.3517\n",
            "Epoch 32/70\n",
            "4/4 [==============================] - 0s 4ms/step - loss: 0.3414\n",
            "Epoch 33/70\n",
            "4/4 [==============================] - 0s 4ms/step - loss: 0.3386\n",
            "Epoch 34/70\n",
            "4/4 [==============================] - 0s 4ms/step - loss: 0.3270\n",
            "Epoch 35/70\n",
            "4/4 [==============================] - 0s 3ms/step - loss: 0.3156\n",
            "Epoch 36/70\n",
            "4/4 [==============================] - 0s 3ms/step - loss: 0.3157\n",
            "Epoch 37/70\n",
            "4/4 [==============================] - 0s 4ms/step - loss: 0.3301\n",
            "Epoch 38/70\n",
            "4/4 [==============================] - 0s 5ms/step - loss: 0.3122\n",
            "Epoch 39/70\n",
            "4/4 [==============================] - 0s 3ms/step - loss: 0.2888\n",
            "Epoch 40/70\n",
            "4/4 [==============================] - 0s 4ms/step - loss: 0.2947\n",
            "Epoch 41/70\n",
            "4/4 [==============================] - 0s 3ms/step - loss: 0.2817\n",
            "Epoch 42/70\n",
            "4/4 [==============================] - 0s 3ms/step - loss: 0.2839\n",
            "Epoch 43/70\n",
            "4/4 [==============================] - 0s 3ms/step - loss: 0.2786\n",
            "Epoch 44/70\n",
            "4/4 [==============================] - 0s 3ms/step - loss: 0.2762\n",
            "Epoch 45/70\n",
            "4/4 [==============================] - 0s 3ms/step - loss: 0.2693\n",
            "Epoch 46/70\n",
            "4/4 [==============================] - 0s 4ms/step - loss: 0.2633\n",
            "Epoch 47/70\n",
            "4/4 [==============================] - 0s 4ms/step - loss: 0.2767\n",
            "Epoch 48/70\n",
            "4/4 [==============================] - 0s 3ms/step - loss: 0.2429\n",
            "Epoch 49/70\n",
            "4/4 [==============================] - 0s 3ms/step - loss: 0.2705\n",
            "Epoch 50/70\n",
            "4/4 [==============================] - 0s 4ms/step - loss: 0.2732\n",
            "Epoch 51/70\n",
            "4/4 [==============================] - 0s 4ms/step - loss: 0.2996\n",
            "Epoch 52/70\n",
            "4/4 [==============================] - 0s 3ms/step - loss: 0.2705\n",
            "Epoch 53/70\n",
            "4/4 [==============================] - 0s 4ms/step - loss: 0.2771\n",
            "Epoch 54/70\n",
            "4/4 [==============================] - 0s 3ms/step - loss: 0.2340\n",
            "Epoch 55/70\n",
            "4/4 [==============================] - 0s 5ms/step - loss: 0.2466\n",
            "Epoch 56/70\n",
            "4/4 [==============================] - 0s 4ms/step - loss: 0.2797\n",
            "Epoch 57/70\n",
            "4/4 [==============================] - 0s 3ms/step - loss: 0.2379\n",
            "Epoch 58/70\n",
            "4/4 [==============================] - 0s 3ms/step - loss: 0.2209\n",
            "Epoch 59/70\n",
            "4/4 [==============================] - 0s 4ms/step - loss: 0.2340\n",
            "Epoch 60/70\n",
            "4/4 [==============================] - 0s 4ms/step - loss: 0.2189\n",
            "Epoch 61/70\n",
            "4/4 [==============================] - 0s 3ms/step - loss: 0.2091\n",
            "Epoch 62/70\n",
            "4/4 [==============================] - 0s 4ms/step - loss: 0.2105\n",
            "Epoch 63/70\n",
            "4/4 [==============================] - 0s 5ms/step - loss: 0.1975\n",
            "Epoch 64/70\n",
            "4/4 [==============================] - 0s 3ms/step - loss: 0.2106\n",
            "Epoch 65/70\n",
            "4/4 [==============================] - 0s 4ms/step - loss: 0.1957\n",
            "Epoch 66/70\n",
            "4/4 [==============================] - 0s 4ms/step - loss: 0.1986\n",
            "Epoch 67/70\n",
            "4/4 [==============================] - 0s 4ms/step - loss: 0.2018\n",
            "Epoch 68/70\n",
            "4/4 [==============================] - 0s 4ms/step - loss: 0.1922\n",
            "Epoch 69/70\n",
            "4/4 [==============================] - 0s 7ms/step - loss: 0.1816\n",
            "Epoch 70/70\n",
            "4/4 [==============================] - 0s 4ms/step - loss: 0.1887\n"
          ]
        }
      ]
    },
    {
      "cell_type": "markdown",
      "metadata": {
        "id": "arBf4SAI9y0U"
      },
      "source": [
        "Evaluate the model."
      ]
    },
    {
      "cell_type": "code",
      "metadata": {
        "id": "Z3tEgrext4lQ",
        "colab": {
          "base_uri": "https://localhost:8080/"
        },
        "outputId": "6746e55d-93d1-4d85-a69b-89db1642c9a0"
      },
      "source": [
        "tfmodel.evaluate(x_test, y_test)"
      ],
      "execution_count": 423,
      "outputs": [
        {
          "output_type": "stream",
          "name": "stdout",
          "text": [
            "1/1 [==============================] - 0s 113ms/step - loss: 0.1443\n"
          ]
        },
        {
          "output_type": "execute_result",
          "data": {
            "text/plain": [
              "0.14426705241203308"
            ]
          },
          "metadata": {},
          "execution_count": 423
        }
      ]
    },
    {
      "cell_type": "code",
      "metadata": {
        "colab": {
          "base_uri": "https://localhost:8080/",
          "height": 296
        },
        "id": "1D42TwGmltbz",
        "outputId": "a888fb64-d2a6-4257-872d-091016fab2c7"
      },
      "source": [
        "import matplotlib.pyplot as plt\n",
        "plt.xlabel('Epoch Number')\n",
        "plt.ylabel(\"Loss Magnitude\")\n",
        "plt.plot(history.history['loss'])"
      ],
      "execution_count": 424,
      "outputs": [
        {
          "output_type": "execute_result",
          "data": {
            "text/plain": [
              "[<matplotlib.lines.Line2D at 0x7f2baeabee90>]"
            ]
          },
          "metadata": {},
          "execution_count": 424
        },
        {
          "output_type": "display_data",
          "data": {
            "image/png": "[encoded data removed]",
            "text/plain": [
              "<Figure size 432x288 with 1 Axes>"
            ]
          },
          "metadata": {
            "needs_background": "light"
          }
        }
      ]
    },
    {
      "cell_type": "code",
      "source": [
        "tfmodel.predict(x_test[:3])"
      ],
      "metadata": {
        "colab": {
          "base_uri": "https://localhost:8080/"
        },
        "id": "ripTAWYJ8bt-",
        "outputId": "e65bbc8d-a819-4299-eaed-4b6fd756cf85"
      },
      "execution_count": 425,
      "outputs": [
        {
          "output_type": "execute_result",
          "data": {
            "text/plain": [
              "array([[1.3432025e-04, 4.0764880e-01, 5.9221685e-01],\n",
              "       [2.1502688e-05, 1.5618582e-01, 8.4379268e-01],\n",
              "       [9.9996662e-01, 3.3427128e-05, 4.2045347e-08]], dtype=float32)"
            ]
          },
          "metadata": {},
          "execution_count": 425
        }
      ]
    },
    {
      "cell_type": "code",
      "source": [
        "y_test[:3]"
      ],
      "metadata": {
        "colab": {
          "base_uri": "https://localhost:8080/",
          "height": 143
        },
        "id": "efuZM8PT8cGZ",
        "outputId": "c235071d-89dc-4dbd-f02d-4d9780261c61"
      },
      "execution_count": 426,
      "outputs": [
        {
          "output_type": "execute_result",
          "data": {
            "text/html": [
              "\n",
              "  <div id=\"df-1ee476bd-25a6-461e-9d6d-20d5a270fd9d\">\n",
              "    <div class=\"colab-df-container\">\n",
              "      <div>\n",
              "<style scoped>\n",
              "    .dataframe tbody tr th:only-of-type {\n",
              "        vertical-align: middle;\n",
              "    }\n",
              "\n",
              "    .dataframe tbody tr th {\n",
              "        vertical-align: top;\n",
              "    }\n",
              "\n",
              "    .dataframe thead th {\n",
              "        text-align: right;\n",
              "    }\n",
              "</style>\n",
              "<table border=\"1\" class=\"dataframe\">\n",
              "  <thead>\n",
              "    <tr style=\"text-align: right;\">\n",
              "      <th></th>\n",
              "      <th>Iris-setosa</th>\n",
              "      <th>Iris-versicolor</th>\n",
              "      <th>Iris-virginica</th>\n",
              "    </tr>\n",
              "  </thead>\n",
              "  <tbody>\n",
              "    <tr>\n",
              "      <th>100</th>\n",
              "      <td>0</td>\n",
              "      <td>0</td>\n",
              "      <td>1</td>\n",
              "    </tr>\n",
              "    <tr>\n",
              "      <th>115</th>\n",
              "      <td>0</td>\n",
              "      <td>0</td>\n",
              "      <td>1</td>\n",
              "    </tr>\n",
              "    <tr>\n",
              "      <th>0</th>\n",
              "      <td>1</td>\n",
              "      <td>0</td>\n",
              "      <td>0</td>\n",
              "    </tr>\n",
              "  </tbody>\n",
              "</table>\n",
              "</div>\n",
              "      <button class=\"colab-df-convert\" onclick=\"convertToInteractive('df-1ee476bd-25a6-461e-9d6d-20d5a270fd9d')\"\n",
              "              title=\"Convert this dataframe to an interactive table.\"\n",
              "              style=\"display:none;\">\n",
              "        \n",
              "  <svg xmlns=\"http://www.w3.org/2000/svg\" height=\"24px\"viewBox=\"0 0 24 24\"\n",
              "       width=\"24px\">\n",
              "    <path d=\"M0 0h24v24H0V0z\" fill=\"none\"/>\n",
              "    <path d=\"M18.56 5.44l.94 2.06.94-2.06 2.06-.94-2.06-.94-.94-2.06-.94 2.06-2.06.94zm-11 1L8.5 8.5l.94-2.06 2.06-.94-2.06-.94L8.5 2.5l-.94 2.06-2.06.94zm10 10l.94 2.06.94-2.06 2.06-.94-2.06-.94-.94-2.06-.94 2.06-2.06.94z\"/><path d=\"M17.41 7.96l-1.37-1.37c-.4-.4-.92-.59-1.43-.59-.52 0-1.04.2-1.43.59L10.3 9.45l-7.72 7.72c-.78.78-.78 2.05 0 2.83L4 21.41c.39.39.9.59 1.41.59.51 0 1.02-.2 1.41-.59l7.78-7.78 2.81-2.81c.8-.78.8-2.07 0-2.86zM5.41 20L4 18.59l7.72-7.72 1.47 1.35L5.41 20z\"/>\n",
              "  </svg>\n",
              "      </button>\n",
              "      \n",
              "  <style>\n",
              "    .colab-df-container {\n",
              "      display:flex;\n",
              "      flex-wrap:wrap;\n",
              "      gap: 12px;\n",
              "    }\n",
              "\n",
              "    .colab-df-convert {\n",
              "      background-color: #E8F0FE;\n",
              "      border: none;\n",
              "      border-radius: 50%;\n",
              "      cursor: pointer;\n",
              "      display: none;\n",
              "      fill: #1967D2;\n",
              "      height: 32px;\n",
              "      padding: 0 0 0 0;\n",
              "      width: 32px;\n",
              "    }\n",
              "\n",
              "    .colab-df-convert:hover {\n",
              "      background-color: #E2EBFA;\n",
              "      box-shadow: 0px 1px 2px rgba(60, 64, 67, 0.3), 0px 1px 3px 1px rgba(60, 64, 67, 0.15);\n",
              "      fill: #174EA6;\n",
              "    }\n",
              "\n",
              "    [theme=dark] .colab-df-convert {\n",
              "      background-color: #3B4455;\n",
              "      fill: #D2E3FC;\n",
              "    }\n",
              "\n",
              "    [theme=dark] .colab-df-convert:hover {\n",
              "      background-color: #434B5C;\n",
              "      box-shadow: 0px 1px 3px 1px rgba(0, 0, 0, 0.15);\n",
              "      filter: drop-shadow(0px 1px 2px rgba(0, 0, 0, 0.3));\n",
              "      fill: #FFFFFF;\n",
              "    }\n",
              "  </style>\n",
              "\n",
              "      <script>\n",
              "        const buttonEl =\n",
              "          document.querySelector('#df-1ee476bd-25a6-461e-9d6d-20d5a270fd9d button.colab-df-convert');\n",
              "        buttonEl.style.display =\n",
              "          google.colab.kernel.accessAllowed ? 'block' : 'none';\n",
              "\n",
              "        async function convertToInteractive(key) {\n",
              "          const element = document.querySelector('#df-1ee476bd-25a6-461e-9d6d-20d5a270fd9d');\n",
              "          const dataTable =\n",
              "            await google.colab.kernel.invokeFunction('convertToInteractive',\n",
              "                                                     [key], {});\n",
              "          if (!dataTable) return;\n",
              "\n",
              "          const docLinkHtml = 'Like what you see? Visit the ' +\n",
              "            '<a target=\"_blank\" href=https://colab.research.google.com/notebooks/data_table.ipynb>data table notebook</a>'\n",
              "            + ' to learn more about interactive tables.';\n",
              "          element.innerHTML = '';\n",
              "          dataTable['output_type'] = 'display_data';\n",
              "          await google.colab.output.renderOutput(dataTable, element);\n",
              "          const docLink = document.createElement('div');\n",
              "          docLink.innerHTML = docLinkHtml;\n",
              "          element.appendChild(docLink);\n",
              "        }\n",
              "      </script>\n",
              "    </div>\n",
              "  </div>\n",
              "  "
            ],
            "text/plain": [
              "     Iris-setosa  Iris-versicolor  Iris-virginica\n",
              "100            0                0               1\n",
              "115            0                0               1\n",
              "0              1                0               0"
            ]
          },
          "metadata": {},
          "execution_count": 426
        }
      ]
    }
  ]
}